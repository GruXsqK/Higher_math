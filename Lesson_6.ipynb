{
 "cells": [
  {
   "cell_type": "markdown",
   "metadata": {},
   "source": [
    "## Практические задания к уроку 6"
   ]
  },
  {
   "cell_type": "markdown",
   "metadata": {},
   "source": [
    "1. Задание (теорема сложения)\n",
    "Найти вероятность выпадения 2 или 5 очков при подбрасывании игральной кости, на гранях которой имеются соответственно 1,2,3,4,5 и 6 очков."
   ]
  },
  {
   "cell_type": "code",
   "execution_count": 1,
   "metadata": {},
   "outputs": [],
   "source": [
    "from fractions import Fraction\n",
    "from math import factorial"
   ]
  },
  {
   "cell_type": "code",
   "execution_count": 2,
   "metadata": {},
   "outputs": [
    {
     "name": "stdout",
     "output_type": "stream",
     "text": [
      "P(A+B)=P(A)+P(B); P = 1/3 = 0.3333333333333333\n"
     ]
    }
   ],
   "source": [
    "print('P(A+B)=P(A)+P(B); P =', Fraction(1, 6) + Fraction(1, 6), '=', 1/6+1/6)"
   ]
  },
  {
   "cell_type": "markdown",
   "metadata": {},
   "source": [
    "2. Задание (теорема умножения)\n",
    "Найти вероятность того, что при двух подбрасываниях той же самой игральной кости сначала выпадет 2, а затем 5."
   ]
  },
  {
   "cell_type": "code",
   "execution_count": 3,
   "metadata": {},
   "outputs": [
    {
     "name": "stdout",
     "output_type": "stream",
     "text": [
      "P(A*B)=P(A)*P(B); P = 1/36 = 0.027777777777777776\n"
     ]
    }
   ],
   "source": [
    "print('P(A*B)=P(A)*P(B); P =', Fraction(1, 6) * Fraction(1, 6), '=', 1/6*1/6)"
   ]
  },
  {
   "cell_type": "markdown",
   "metadata": {},
   "source": [
    "3. Задание \n",
    "Найти вероятность выпадения 2 и 5 очков при двух подбрасываниях той же самой игральной игральной кости."
   ]
  },
  {
   "cell_type": "code",
   "execution_count": 4,
   "metadata": {},
   "outputs": [
    {
     "name": "stdout",
     "output_type": "stream",
     "text": [
      "P(A*B)=P(A)*P(B|A); P = 1/18 = 0.05555555555555555\n"
     ]
    }
   ],
   "source": [
    "print('P(A*B)=P(A)*P(B|A); P =', Fraction(2, 6) * Fraction(1, 6), '=', 2/6*1/6)"
   ]
  },
  {
   "cell_type": "markdown",
   "metadata": {},
   "source": [
    "4. Задание  (Геометрическая вероятность +интервалы)\n",
    "На отрезке AB длиной 20 см наугад отметили точку C. Какова вероятность, что она находится на расстоянии не более 9 см от точки А и не более 15 см от точки В?"
   ]
  },
  {
   "cell_type": "code",
   "execution_count": 5,
   "metadata": {},
   "outputs": [
    {
     "name": "stdout",
     "output_type": "stream",
     "text": [
      "P(A)=(mes g)/(mes G); P = 1/5 = 0.2\n"
     ]
    }
   ],
   "source": [
    "print('P(A)=(mes g)/(mes G); P =', Fraction((15+9-20), 20), '=', (15+9-20)/20)"
   ]
  },
  {
   "cell_type": "markdown",
   "metadata": {},
   "source": [
    "5. Задание. \n",
    "Телефонный номер состоит из 7 цифр. Какова вероятность, что это номер 8882227?"
   ]
  },
  {
   "cell_type": "code",
   "execution_count": 6,
   "metadata": {},
   "outputs": [
    {
     "name": "stdout",
     "output_type": "stream",
     "text": [
      "P = 1/10000000, если допустить, что номер может быть любым, в том числе начинаться с нуля\n",
      "P = 1/9000000, если номер не может начинаться с нуля\n",
      "P = 1/1000000, если номер начинается только с 8-ки\n"
     ]
    }
   ],
   "source": [
    "print(f'P = {Fraction(1, 10**7)}, если допустить, что номер может быть любым, в том числе начинаться с нуля')\n",
    "print(f'P = {Fraction(1, 9*10**6)}, если номер не может начинаться с нуля')\n",
    "print(f'P = {Fraction(1, 1*10**6)}, если номер начинается только с 8-ки')"
   ]
  },
  {
   "cell_type": "markdown",
   "metadata": {},
   "source": [
    "6. Задание. \n",
    "Набирая номер телефона, абонент забыл 2 последние цифры, и, помня только то, что эти цифры различны и среди них нет нуля, стал набирать их наудачу. Сколько вариантов ему надо перебрать, чтобы наверняка найти нужный номер? Какова вероятность того, что он угадает номер с первого раза?"
   ]
  },
  {
   "cell_type": "code",
   "execution_count": 7,
   "metadata": {},
   "outputs": [
    {
     "name": "stdout",
     "output_type": "stream",
     "text": [
      "C = 72\n",
      "P = 1/72 = 0.013888888888888888\n"
     ]
    }
   ],
   "source": [
    "print('C =', 9**2 - 9)\n",
    "print('P =', Fraction(1, 9**2 - 9), '=', 1/(9**2 - 9))"
   ]
  },
  {
   "cell_type": "markdown",
   "metadata": {},
   "source": [
    "7. Задание** (необязательное) \n",
    "Чёрный куб покрасили снаружи белой краской, затем разрезали на 27 одинаковых маленьких кубиков и как попало сложили из них большой куб. С какой вероятностью все грани этого куба будут белыми?"
   ]
  },
  {
   "cell_type": "code",
   "execution_count": 8,
   "metadata": {},
   "outputs": [
    {
     "data": {
      "text/latex": [
       "Куб состоит из 1-го непокрашенного кубика, 6-ти кубиков покрашенных с одной стороны, 12-ти - с двух и 8-ми - с трех.\n",
       "Вероятность выбрать кубик без белых граней:\\begin{eqnarray*}~\\end{eqnarray*}$$\\frac{1*24}{27*24}=\\frac{1}{27}$$\n",
       "\\begin{eqnarray*}~\\end{eqnarray*}\n",
       "Вероятность выбрать из 26 кубиков 6 подряд с одной белой гранью с в правильном положении:\\begin{eqnarray*}~\\end{eqnarray*}\n",
       "$$\\frac{6*4}{26*24}*\\frac{5*4}{25*24}*\\frac{4*4}{24*24}*\\frac{3*4}{23*24}*\\frac{2*4}{22*24}*\\frac{1*4}{21*24}=\n",
       "                                                                                                    \\frac{5!}{26*...*21*6^5}$$\n",
       "\\begin{eqnarray*}~\\end{eqnarray*}Вероятность выбрать из 20 кубиков 12 подряд с двумя белыми гранями в правильном положении:\n",
       "\\begin{eqnarray*}~\\end{eqnarray*}\n",
       "$$\\frac{12*2}{20*24}*\\frac{11*2}{19*24}*\\frac{10*2}{18*24}*\\frac{9*2}{17*24}*\\frac{8*2}{16*24}*\\frac{7*2}{15*24}*\n",
       "\\frac{6*2}{14*24}*\\frac{5*2}{13*24}*\\frac{4*2}{12*24}*\\frac{3*2}{11*24}*\\frac{2*2}{10*24}*\\frac{1*2}{9*24}=\n",
       "                                                                                            \\frac{11!}{20*...*9*12^{11}}$$\n",
       "\\begin{eqnarray*}~\\end{eqnarray*}Вероятность выбрать из 8 кубиков 8 подряд с тремя белыми гранями в правильном положении:\n",
       "\\begin{eqnarray*}~\\end{eqnarray*}\n",
       "$$\\frac{8*3}{8*24}*\\frac{7*3}{7*24}*\\frac{6*3}{6*24}*\\frac{5*3}{5*24}*\\frac{4*3}{4*24}*\\frac{3*3}{3*24}*\\frac{2*3}{2*24}*\n",
       "\\frac{1*3}{1*24}=\\frac{1}{8^8}$$\n",
       "\\begin{eqnarray*}~\\end{eqnarray*}\n",
       "Вероятность, что все грани после сборки будут белыми:\\begin{eqnarray*}~\\end{eqnarray*}\n",
       "$$\\frac{5!*11!*8!}{27!*6^5*12^{11}*8^8}$$\n"
      ],
      "text/plain": [
       "<IPython.core.display.Latex object>"
      ]
     },
     "metadata": {},
     "output_type": "display_data"
    }
   ],
   "source": [
    "%%latex\n",
    "Куб состоит из 1-го непокрашенного кубика, 6-ти кубиков покрашенных с одной стороны, 12-ти - с двух и 8-ми - с трех.\n",
    "Вероятность выбрать кубик без белых граней:\\begin{eqnarray*}~\\end{eqnarray*}$$\\frac{1*24}{27*24}=\\frac{1}{27}$$\n",
    "\\begin{eqnarray*}~\\end{eqnarray*}\n",
    "Вероятность выбрать из 26 кубиков 6 подряд с одной белой гранью с в правильном положении:\\begin{eqnarray*}~\\end{eqnarray*}\n",
    "$$\\frac{6*4}{26*24}*\\frac{5*4}{25*24}*\\frac{4*4}{24*24}*\\frac{3*4}{23*24}*\\frac{2*4}{22*24}*\\frac{1*4}{21*24}=\n",
    "                                                                                                    \\frac{5!}{26*...*21*6^5}$$\n",
    "\\begin{eqnarray*}~\\end{eqnarray*}Вероятность выбрать из 20 кубиков 12 подряд с двумя белыми гранями в правильном положении:\n",
    "\\begin{eqnarray*}~\\end{eqnarray*}\n",
    "$$\\frac{12*2}{20*24}*\\frac{11*2}{19*24}*\\frac{10*2}{18*24}*\\frac{9*2}{17*24}*\\frac{8*2}{16*24}*\\frac{7*2}{15*24}*\n",
    "\\frac{6*2}{14*24}*\\frac{5*2}{13*24}*\\frac{4*2}{12*24}*\\frac{3*2}{11*24}*\\frac{2*2}{10*24}*\\frac{1*2}{9*24}=\n",
    "                                                                                            \\frac{11!}{20*...*9*12^{11}}$$\n",
    "\\begin{eqnarray*}~\\end{eqnarray*}Вероятность выбрать из 8 кубиков 8 подряд с тремя белыми гранями в правильном положении:\n",
    "\\begin{eqnarray*}~\\end{eqnarray*}\n",
    "$$\\frac{8*3}{8*24}*\\frac{7*3}{7*24}*\\frac{6*3}{6*24}*\\frac{5*3}{5*24}*\\frac{4*3}{4*24}*\\frac{3*3}{3*24}*\\frac{2*3}{2*24}*\n",
    "\\frac{1*3}{1*24}=\\frac{1}{8^8}$$\n",
    "\\begin{eqnarray*}~\\end{eqnarray*}\n",
    "Вероятность, что все грани после сборки будут белыми:\\begin{eqnarray*}~\\end{eqnarray*}\n",
    "$$\\frac{5!*11!*8!}{27!*6^5*12^{11}*8^8}$$"
   ]
  },
  {
   "cell_type": "code",
   "execution_count": 9,
   "metadata": {},
   "outputs": [
    {
     "name": "stdout",
     "output_type": "stream",
     "text": [
      "P = 1/5465062811999459151238583897240371200 = 1.8115070842850873e-34\n"
     ]
    }
   ],
   "source": [
    "print('P =', Fraction(factorial(5)*factorial(11)*factorial(8), factorial(27)*6**5*12**11*8**8), '=', \n",
    "      (factorial(5)*factorial(11)*factorial(11))/(factorial(27)*6**5*12**11*8**8))"
   ]
  }
 ],
 "metadata": {
  "kernelspec": {
   "display_name": "Python 3",
   "language": "python",
   "name": "python3"
  },
  "language_info": {
   "codemirror_mode": {
    "name": "ipython",
    "version": 3
   },
   "file_extension": ".py",
   "mimetype": "text/x-python",
   "name": "python",
   "nbconvert_exporter": "python",
   "pygments_lexer": "ipython3",
   "version": "3.7.3"
  }
 },
 "nbformat": 4,
 "nbformat_minor": 2
}
