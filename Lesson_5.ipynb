{
 "cells": [
  {
   "cell_type": "markdown",
   "metadata": {},
   "source": [
    "## Задания к видеоуроку \"Элементы теории вероятностей\""
   ]
  },
  {
   "cell_type": "markdown",
   "metadata": {},
   "source": [
    "1. Напишите код, моделирующий выпадение поля в рулетке (с учетом поля зеро)."
   ]
  },
  {
   "cell_type": "code",
   "execution_count": 1,
   "metadata": {},
   "outputs": [
    {
     "name": "stdout",
     "output_type": "stream",
     "text": [
      "18\n",
      "10\n",
      "36\n",
      "12\n",
      "19\n"
     ]
    }
   ],
   "source": [
    "import numpy as np\n",
    "\n",
    "def roulette(n):\n",
    "    for itr in range(n):\n",
    "        print(np.random.randint(0, 37))\n",
    "    \n",
    "roulette(5)"
   ]
  },
  {
   "cell_type": "markdown",
   "metadata": {},
   "source": [
    "2. \n",
    "Напишите код, проверяющий любую из теорем сложения или умножения вероятности на примере рулетки или подбрасывания монетки.\n",
    "Сгенерируйте десять выборок случайных чисел х0, …, х9.\n",
    "и постройте гистограмму распределения случайной суммы х0+х1+ …+ х9"
   ]
  },
  {
   "cell_type": "code",
   "execution_count": 2,
   "metadata": {},
   "outputs": [
    {
     "name": "stdout",
     "output_type": "stream",
     "text": [
      "Вероятность выпадения зеро один раз: 0.02602\n",
      "Вероятность выпадения зеро два раза подряд: 0.00069\n",
      "Вероятность произведения двух независимых событий A и B равна произведению этих вероятностей:\n",
      "0.00069 =~ 0.02602 * 0.02602\n"
     ]
    }
   ],
   "source": [
    "def one_event_roulette(n):\n",
    "    \n",
    "    itr = 0\n",
    "    \n",
    "    for _ in range(n):\n",
    "        x = np.random.randint(0, 37)\n",
    "        if x==0:\n",
    "            itr += 1\n",
    "\n",
    "    return itr/n\n",
    "\n",
    "        \n",
    "def two_event_roulette(n):\n",
    "    \n",
    "    itr = 0\n",
    "    a = False\n",
    "    \n",
    "    for _ in range(n):\n",
    "        x = np.random.randint(0, 37)\n",
    "        \n",
    "        if x==0 and a:\n",
    "            itr += 1\n",
    "            a = False\n",
    "        elif x==0:\n",
    "            a = True\n",
    "        else:\n",
    "            a = False\n",
    "            \n",
    "    return itr/n\n",
    "\n",
    "\n",
    "one = one_event_roulette(100000)\n",
    "two = two_event_roulette(100000)\n",
    "print(f\"Вероятность выпадения зеро один раз: {one}\")\n",
    "print(f\"Вероятность выпадения зеро два раза подряд: {two}\")\n",
    "print(f\"Вероятность произведения двух независимых событий A и B равна произведению этих вероятностей:\")\n",
    "print(f\"{two} =~ {one} * {one}\")"
   ]
  },
  {
   "cell_type": "code",
   "execution_count": 3,
   "metadata": {},
   "outputs": [
    {
     "data": {
      "image/png": "[encoded data removed]",
      "text/plain": [
       "<Figure size 432x288 with 1 Axes>"
      ]
     },
     "metadata": {
      "needs_background": "light"
     },
     "output_type": "display_data"
    }
   ],
   "source": [
    "import matplotlib.pyplot as plt\n",
    "%matplotlib inline\n",
    "\n",
    "x = []\n",
    "for _ in range(10):\n",
    "    x.append(np.random.rand(100))\n",
    "plt.hist(sum(x), 10);"
   ]
  },
  {
   "cell_type": "markdown",
   "metadata": {},
   "source": [
    "3.\n",
    "Дополните код Монте-Карло последовательности независимых испытаний расчетом соответствующих вероятностей (через биномиальное распределение) \n",
    "и сравните результаты.\n",
    "Повторите расчеты биномиальных коэффициентов и вероятностей k успехов в последовательности из n независимых испытаний, взяв другие значения n и k.\n"
   ]
  },
  {
   "cell_type": "code",
   "execution_count": 4,
   "metadata": {},
   "outputs": [
    {
     "name": "stdout",
     "output_type": "stream",
     "text": [
      "При k=2, n=4 ---> C=6.0, P=0.375\n",
      "При k=5, n=10 ---> C=252.0, P=0.24609375\n",
      "При k=7, n=10 ---> C=120.0, P=0.1171875\n",
      "При k=1, n=12 ---> C=12.0, P=0.0029296875\n"
     ]
    }
   ],
   "source": [
    "import math\n",
    "\n",
    "\n",
    "def binom_p(k, n, p):\n",
    "    \n",
    "    q = 1 - p\n",
    "    c = (math.factorial(n)/(math.factorial(k)*math.factorial(n-k)))\n",
    "    return c, c*p**k*(1-q)**(n-k)\n",
    "\n",
    "\n",
    "print(f'При k=2, n=4 ---> C={binom_p(2, 4, 0.5)[0]}, P={binom_p(2, 4, 0.5)[1]}')\n",
    "print(f'При k=5, n=10 ---> C={binom_p(5, 10, 0.5)[0]}, P={binom_p(5, 10, 0.5)[1]}')\n",
    "print(f'При k=7, n=10 ---> C={binom_p(7, 10, 0.5)[0]}, P={binom_p(7, 10, 0.5)[1]}')\n",
    "print(f'При k=1, n=12 ---> C={binom_p(1, 12, 0.5)[0]}, P={binom_p(1, 12, 0.5)[1]}')"
   ]
  },
  {
   "cell_type": "markdown",
   "metadata": {},
   "source": [
    "4. Из урока по комбинаторике повторите расчеты, сгенерировав возможные варианты перестановок для других значений n и k"
   ]
  },
  {
   "cell_type": "code",
   "execution_count": 5,
   "metadata": {},
   "outputs": [
    {
     "name": "stdout",
     "output_type": "stream",
     "text": [
      "012\n",
      "014\n",
      "021\n",
      "024\n",
      "041\n",
      "042\n",
      "102\n",
      "104\n",
      "120\n",
      "124\n",
      "140\n",
      "142\n",
      "201\n",
      "204\n",
      "210\n",
      "214\n",
      "240\n",
      "241\n",
      "401\n",
      "402\n",
      "410\n",
      "412\n",
      "420\n",
      "421\n"
     ]
    }
   ],
   "source": [
    "import itertools\n",
    "\n",
    "for p in itertools.permutations('0124', 3):\n",
    "    print(''.join(str(x) for x in p))"
   ]
  },
  {
   "cell_type": "code",
   "execution_count": 6,
   "metadata": {},
   "outputs": [
    {
     "name": "stdout",
     "output_type": "stream",
     "text": [
      "Количество перестановок = 60\n",
      "Количество перестановок = 30240\n",
      "Количество перестановок = 5040\n"
     ]
    }
   ],
   "source": [
    "perm = 0\n",
    "for p in itertools.permutations('01234', 3):\n",
    "    perm += 1\n",
    "print('Количество перестановок =', perm)\n",
    "\n",
    "\n",
    "perm = 0\n",
    "for p in itertools.permutations('0123456789', 5):\n",
    "    perm += 1\n",
    "print('Количество перестановок =', perm)\n",
    "\n",
    "\n",
    "perm = 0\n",
    "for p in itertools.permutations('0123456', 6):\n",
    "    perm += 1\n",
    "print('Количество перестановок =', perm)"
   ]
  },
  {
   "cell_type": "code",
   "execution_count": 7,
   "metadata": {},
   "outputs": [
    {
     "name": "stdout",
     "output_type": "stream",
     "text": [
      "0.6874930484138578 0.15232768392400586\n",
      "0.6874930484138586 0.15232768392400534\n",
      "0.9011625012400488\n",
      "0.9011625012400488\n"
     ]
    },
    {
     "data": {
      "image/png": "[encoded data removed]",
      "text/plain": [
       "<Figure size 432x288 with 1 Axes>"
      ]
     },
     "metadata": {
      "needs_background": "light"
     },
     "output_type": "display_data"
    }
   ],
   "source": [
    "n = 100\n",
    "r = 0.7\n",
    "x = np.random.rand(n)\n",
    "y = r*x + (1 - r)*np.random.rand(n)\n",
    "plt.plot(x, y, 'o')\n",
    "plt.xlabel('x')\n",
    "plt.ylabel('y')\n",
    "plt.grid()\n",
    "\n",
    "a = (np.sum(x)*np.sum(y) - n*np.sum(x*y))/(np.sum(x)**2 - n*np.sum(x**2))\n",
    "b = (np.sum(y) - a*np.sum(x))/n\n",
    "\n",
    "A = np.vstack([x, np.ones(len(x))]).T\n",
    "a1, b1 = np.linalg.lstsq(A, y, rcond=None)[0]\n",
    "\n",
    "R = (np.sum((x - np.mean(x))*(y - np.mean(y))))/(np.sqrt(np.sum((x - np.mean(x))**2)*np.sum((y - np.mean(y))**2)))\n",
    "\n",
    "print(a, b)\n",
    "print(a1, b1)\n",
    "print(R)\n",
    "print(np.corrcoef(x, y)[0, 1])\n",
    "\n",
    "plt.plot([0, 1], [b, a + b])\n",
    "plt.show();"
   ]
  }
 ],
 "metadata": {
  "kernelspec": {
   "display_name": "Python 3",
   "language": "python",
   "name": "python3"
  },
  "language_info": {
   "codemirror_mode": {
    "name": "ipython",
    "version": 3
   },
   "file_extension": ".py",
   "mimetype": "text/x-python",
   "name": "python",
   "nbconvert_exporter": "python",
   "pygments_lexer": "ipython3",
   "version": "3.7.3"
  }
 },
 "nbformat": 4,
 "nbformat_minor": 2
}
