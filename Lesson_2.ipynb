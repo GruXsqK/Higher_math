{
 "cells": [
  {
   "cell_type": "markdown",
   "metadata": {},
   "source": [
    "## Практические задания к уроку 2"
   ]
  },
  {
   "cell_type": "markdown",
   "metadata": {},
   "source": [
    "1. Задание \n",
    "Напишите уравнение параболы, проходящей через три точки (x,y):\n",
    "(1,2), (3,10), (5,1)"
   ]
  },
  {
   "cell_type": "code",
   "execution_count": 1,
   "metadata": {},
   "outputs": [
    {
     "data": {
      "text/latex": [
       "\\begin{eqnarray*}\\text{Уравнение параболы: }y=ax^2+bx+c\\\\\\\\\\end{eqnarray*}\\[\\begin{cases}\\begin{eqnarray*}2&=1^2*a&+1*b&+c\\\\\n",
       "10&=3^2*a&+3*b&+c\\\\1&=5^2*a&+5*b&+c\\\\\\end{eqnarray*}\\end{cases} \\]\\begin{eqnarray*}~\\end{eqnarray*}\\[\\begin{cases}\n",
       "\\begin{eqnarray*}a&+b&+c&=2\\\\9a&+3b&+c&=10\\\\25a&+5b&+c&=1\\\\\\end{eqnarray*}\\end{cases} \\]\\begin{eqnarray*}~\\end{eqnarray*}\n",
       "\\[\\begin{cases}\\begin{eqnarray*}a&+b&+c&=2\\\\&-6b&-8c&=-8\\\\&&\\frac{8}{3}c&=-\\frac{67}{3}\\\\\\end{eqnarray*}\\end{cases} ~\\]\n",
       "\\begin{eqnarray*}~\\end{eqnarray*}\\[\\begin{cases}\\begin{eqnarray*}a=2-c-b\\\\b=\\frac{8}{6}-\\frac{8}{6}c\\\\c=-\\frac{67}{8}\\\\\n",
       "\\end{eqnarray*}\\end{cases} \\]\\begin{eqnarray*}~\\end{eqnarray*}\\begin{eqnarray*}a=-\\frac{17}{8};\\qquad b=\\frac{25}{2};\n",
       "\\qquad c=-\\frac{67}{8}\\end{eqnarray*}\\begin{eqnarray*}~\\end{eqnarray*}\\begin{eqnarray*}y=-\\frac{17}{8}x^2+\\frac{25}{2}x-\n",
       "\\frac{67}{8}\\end{eqnarray*}\n"
      ],
      "text/plain": [
       "<IPython.core.display.Latex object>"
      ]
     },
     "metadata": {},
     "output_type": "display_data"
    }
   ],
   "source": [
    "%%latex\n",
    "\\begin{eqnarray*}\\text{Уравнение параболы: }y=ax^2+bx+c\\\\\\\\\\end{eqnarray*}\\[\\begin{cases}\\begin{eqnarray*}2&=1^2*a&+1*b&+c\\\\\n",
    "10&=3^2*a&+3*b&+c\\\\1&=5^2*a&+5*b&+c\\\\\\end{eqnarray*}\\end{cases} \\]\\begin{eqnarray*}~\\end{eqnarray*}\\[\\begin{cases}\n",
    "\\begin{eqnarray*}a&+b&+c&=2\\\\9a&+3b&+c&=10\\\\25a&+5b&+c&=1\\\\\\end{eqnarray*}\\end{cases} \\]\\begin{eqnarray*}~\\end{eqnarray*}\n",
    "\\[\\begin{cases}\\begin{eqnarray*}a&+b&+c&=2\\\\&-6b&-8c&=-8\\\\&&\\frac{8}{3}c&=-\\frac{67}{3}\\\\\\end{eqnarray*}\\end{cases} ~\\]\n",
    "\\begin{eqnarray*}~\\end{eqnarray*}\\[\\begin{cases}\\begin{eqnarray*}a=2-c-b\\\\b=\\frac{8}{6}-\\frac{8}{6}c\\\\c=-\\frac{67}{8}\\\\\n",
    "\\end{eqnarray*}\\end{cases} \\]\\begin{eqnarray*}~\\end{eqnarray*}\\begin{eqnarray*}a=-\\frac{17}{8};\\qquad b=\\frac{25}{2};\n",
    "\\qquad c=-\\frac{67}{8}\\end{eqnarray*}\\begin{eqnarray*}~\\end{eqnarray*}\\begin{eqnarray*}y=-\\frac{17}{8}x^2+\\frac{25}{2}x-\n",
    "\\frac{67}{8}\\end{eqnarray*}"
   ]
  },
  {
   "cell_type": "markdown",
   "metadata": {},
   "source": [
    "2. Задание \n",
    "Известно, что свежий огурец на 99% состоит из воды. Месяц назад взвесили мешок со свежими огурцами. Получилось, что огурцов ровно 100 кг. Мешок убрали, а через месяц снова взвесили. Огурцы за это время усохли, и теперь вода составляет уже только 98% их веса. Сколько теперь (в кг) весят огурцы?"
   ]
  },
  {
   "cell_type": "code",
   "execution_count": 2,
   "metadata": {},
   "outputs": [
    {
     "data": {
      "text/latex": [
       "$$m_{сух}=100-100*0,99=1 кг$$$$m_{нов}=m_{сух}/(1-0,98)=50 кг$$\n"
      ],
      "text/plain": [
       "<IPython.core.display.Latex object>"
      ]
     },
     "metadata": {},
     "output_type": "display_data"
    }
   ],
   "source": [
    "%%latex\n",
    "$$m_{сух}=100-100*0,99=1 кг$$$$m_{нов}=m_{сух}/(1-0,98)=50 кг$$"
   ]
  },
  {
   "cell_type": "markdown",
   "metadata": {},
   "source": [
    "3. Задание. Определение логарифма."
   ]
  },
  {
   "cell_type": "code",
   "execution_count": 3,
   "metadata": {},
   "outputs": [
    {
     "data": {
      "text/latex": [
       "$$1)\\quad 2^x=256;\\qquad x=log_2 256=8$$\n",
       "$$2)\\quad 2^x=300;\\qquad x=log_2 300=log_2 (5^2*3*4)=2+2log_2 5+log_2 3\\approx 8,229$$\n",
       "$$3)\\quad log_{8} 2^{8x-4}=4;\\qquad\\frac{8x-4}{log_2 8}=4; \\qquad 8x-4=12; \\qquad x=2$$\n",
       "$$4)\\quad 3^{log_9 (5x-5)}=5; \\qquad 3^{\\frac{1}{2}*log_3 (5x-5)}=3^{log_3 5}; \\qquad \\frac{1}{2} log_3(5x-5)=log_3 5; \\qquad\n",
       "(5x-5)^\\frac{1}{2}=5; \\qquad 5x-5=25; \\qquad x=6 $$\n",
       "$$5)\\quad x^{log_3 x+1}=9; \\qquad log_3 x+1=log_x 9; \\quad log_3 x+1=\\frac{2}{log_3 x}; \\quad t=log_3 x ;\\quad t^2+t-2=0;\n",
       "\\quad t_1=1, \\quad t_2=-2, \\quad x_1=3,\\quad x_2=\\frac{1}{9}$$\n"
      ],
      "text/plain": [
       "<IPython.core.display.Latex object>"
      ]
     },
     "metadata": {},
     "output_type": "display_data"
    }
   ],
   "source": [
    "%%latex\n",
    "$$1)\\quad 2^x=256;\\qquad x=log_2 256=8$$\n",
    "$$2)\\quad 2^x=300;\\qquad x=log_2 300=log_2 (5^2*3*4)=2+2log_2 5+log_2 3\\approx 8,229$$\n",
    "$$3)\\quad log_{8} 2^{8x-4}=4;\\qquad\\frac{8x-4}{log_2 8}=4; \\qquad 8x-4=12; \\qquad x=2$$\n",
    "$$4)\\quad 3^{log_9 (5x-5)}=5; \\qquad 3^{\\frac{1}{2}*log_3 (5x-5)}=3^{log_3 5}; \\qquad \\frac{1}{2} log_3(5x-5)=log_3 5; \\qquad\n",
    "(5x-5)^\\frac{1}{2}=5; \\qquad 5x-5=25; \\qquad x=6 $$\n",
    "$$5)\\quad x^{log_3 x+1}=9; \\qquad log_3 x+1=log_x 9; \\quad log_3 x+1=\\frac{2}{log_3 x}; \\quad t=log_3 x ;\\quad t^2+t-2=0;\n",
    "\\quad t_1=1, \\quad t_2=-2, \\quad x_1=3,\\quad x_2=\\frac{1}{9}$$"
   ]
  },
  {
   "cell_type": "markdown",
   "metadata": {},
   "source": [
    "4. Задание Свойства логарифмов."
   ]
  },
  {
   "cell_type": "code",
   "execution_count": 4,
   "metadata": {},
   "outputs": [
    {
     "data": {
      "text/latex": [
       "$$6)\\quad log_4 16=2$$\n",
       "$$7)\\quad log_5 \\frac{1}{25}=log_5 1-log_5 25=0-2=-2$$\n",
       "$$8)\\quad log_{25} 5=\\frac{1}{log_5 25}=\\frac{1}{2}$$\n",
       "$$9)\\quad log_3 \\sqrt{27}=log_3 (\\sqrt{9}*\\sqrt{3})=log_3 3+log_3 \\sqrt{3}=1+0,5=1,5$$\n",
       "$$10)\\quad log_2 12-log_2 3=log_2 \\frac{12}{3}=log_2 4=2$$\n",
       "$$11)\\quad log_6 12+log_6 3=log_6 12*3=log_6 36=2$$\n",
       "$$12)\\quad e^{ln5}=5$$\n",
       "$$13)\\quad \\frac{log_2 225}{log_2 15}=log_{15} 225=2$$\n",
       "$$14)\\quad log_4 32+log_{0,1}10=log_4 16+log_4 2 - log_{10} 10=2 + \\frac{1}{2}-1=1,5$$\n",
       "$$15)\\quad 9^{log_3 \\sqrt{5}}=(\\sqrt{5})^{log_3 9}=(\\sqrt{5})^2=5$$\n"
      ],
      "text/plain": [
       "<IPython.core.display.Latex object>"
      ]
     },
     "metadata": {},
     "output_type": "display_data"
    }
   ],
   "source": [
    "%%latex\n",
    "$$6)\\quad log_4 16=2$$\n",
    "$$7)\\quad log_5 \\frac{1}{25}=log_5 1-log_5 25=0-2=-2$$\n",
    "$$8)\\quad log_{25} 5=\\frac{1}{log_5 25}=\\frac{1}{2}$$\n",
    "$$9)\\quad log_3 \\sqrt{27}=log_3 (\\sqrt{9}*\\sqrt{3})=log_3 3+log_3 \\sqrt{3}=1+0,5=1,5$$\n",
    "$$10)\\quad log_2 12-log_2 3=log_2 \\frac{12}{3}=log_2 4=2$$\n",
    "$$11)\\quad log_6 12+log_6 3=log_6 12*3=log_6 36=2$$\n",
    "$$12)\\quad e^{ln5}=5$$\n",
    "$$13)\\quad \\frac{log_2 225}{log_2 15}=log_{15} 225=2$$\n",
    "$$14)\\quad log_4 32+log_{0,1}10=log_4 16+log_4 2 - log_{10} 10=2 + \\frac{1}{2}-1=1,5$$\n",
    "$$15)\\quad 9^{log_3 \\sqrt{5}}=(\\sqrt{5})^{log_3 9}=(\\sqrt{5})^2=5$$"
   ]
  }
 ],
 "metadata": {
  "kernelspec": {
   "display_name": "Python 3",
   "language": "python",
   "name": "python3"
  },
  "language_info": {
   "codemirror_mode": {
    "name": "ipython",
    "version": 3
   },
   "file_extension": ".py",
   "mimetype": "text/x-python",
   "name": "python",
   "nbconvert_exporter": "python",
   "pygments_lexer": "ipython3",
   "version": "3.7.3"
  }
 },
 "nbformat": 4,
 "nbformat_minor": 2
}
