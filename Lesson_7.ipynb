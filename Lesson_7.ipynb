{
 "cells": [
  {
   "cell_type": "markdown",
   "metadata": {},
   "source": [
    "## Практическое задание к видеоуроку “Введение в линейную алгебру”"
   ]
  },
  {
   "cell_type": "markdown",
   "metadata": {},
   "source": [
    "5.1.\n",
    "Вектор – это частный случай матрицы 1хN и Nх1. Повторите материал для векторов, уделяя особое внимание умножению A∙B.\n",
    "Вычислите, по возможности не используя программирование: (5Е)–1, где Е – единичная матрица размера 5х5"
   ]
  },
  {
   "cell_type": "code",
   "execution_count": 1,
   "metadata": {},
   "outputs": [
    {
     "data": {
      "text/latex": [
       "\\begin{eqnarray*}E=\\left|\\begin{array}{ccccc}1&0&0&0&0\\\\0&1&0&0&0\\\\0&0&1&0&0\\\\0&0&0&1&0\\\\0&0&0&0&1\\end{array}\\right|;\\quad\n",
       "5E=\\left|\\begin{array}{ccccc}5&0&0&0&0\\\\0&5&0&0&0\\\\0&0&5&0&0\\\\0&0&0&5&0\\\\0&0&0&0&5\\end{array}\\right|;\\quad 5E^{-1}=\\left|\n",
       "    \\begin{array}{ccccc}\\frac{1}{5}&0&0&0&0\\\\0&\\frac{1}{5}&0&0&0\\\\0&0&\\frac{1}{5}&0&0\\\\0&0&0&\\frac{1}{5}&0\\\\0&0&0&0&\n",
       "    \\frac{1}{5}\\end{array}\\right|\\end{eqnarray*}\n"
      ],
      "text/plain": [
       "<IPython.core.display.Latex object>"
      ]
     },
     "metadata": {},
     "output_type": "display_data"
    }
   ],
   "source": [
    "%%latex\n",
    "\\begin{eqnarray*}E=\\left|\\begin{array}{ccccc}1&0&0&0&0\\\\0&1&0&0&0\\\\0&0&1&0&0\\\\0&0&0&1&0\\\\0&0&0&0&1\\end{array}\\right|;\\quad\n",
    "5E=\\left|\\begin{array}{ccccc}5&0&0&0&0\\\\0&5&0&0&0\\\\0&0&5&0&0\\\\0&0&0&5&0\\\\0&0&0&0&5\\end{array}\\right|;\\quad 5E^{-1}=\\left|\n",
    "    \\begin{array}{ccccc}\\frac{1}{5}&0&0&0&0\\\\0&\\frac{1}{5}&0&0&0\\\\0&0&\\frac{1}{5}&0&0\\\\0&0&0&\\frac{1}{5}&0\\\\0&0&0&0&\n",
    "    \\frac{1}{5}\\end{array}\\right|\\end{eqnarray*}"
   ]
  },
  {
   "cell_type": "markdown",
   "metadata": {},
   "source": [
    "5.2. Вычислите определитель: [[1, 2, 3], [4, 0, 6], [7, 8, 9]]"
   ]
  },
  {
   "cell_type": "code",
   "execution_count": 2,
   "metadata": {},
   "outputs": [
    {
     "data": {
      "text/latex": [
       "\\begin{eqnarray*}\\left|\\begin{array}{ccc}1&2&3\\\\4&0&6\\\\7&8&9\\end{array}\\right|;\\quad \\varDelta=-4*\\left|\\begin{array}{cc}2&3\n",
       "\\\\8&9\\end{array}\\right|+0*\\left|\\begin{array}{cc}1&3\\\\7&9\\end{array}\\right| -6*\\left|\\begin{array}{cc}1&2\\\\7&8\\end{array}\n",
       "\\right|=-4*(2*9-8*3)-6*(1*8-7*2)=60\\end{eqnarray*}\n"
      ],
      "text/plain": [
       "<IPython.core.display.Latex object>"
      ]
     },
     "metadata": {},
     "output_type": "display_data"
    }
   ],
   "source": [
    "%%latex\n",
    "\\begin{eqnarray*}\\left|\\begin{array}{ccc}1&2&3\\\\4&0&6\\\\7&8&9\\end{array}\\right|;\\quad \\varDelta=-4*\\left|\\begin{array}{cc}2&3\n",
    "\\\\8&9\\end{array}\\right|+0*\\left|\\begin{array}{cc}1&3\\\\7&9\\end{array}\\right| -6*\\left|\\begin{array}{cc}1&2\\\\7&8\\end{array}\n",
    "\\right|=-4*(2*9-8*3)-6*(1*8-7*2)=60\\end{eqnarray*}"
   ]
  },
  {
   "cell_type": "markdown",
   "metadata": {},
   "source": [
    "5.3.\n",
    "1. Вычислите матрицу, обратную данной:\n",
    "[[1, 2, 3], [4, 0, 6], [7, 8, 9]]\n",
    "2. Приведите пример матрицы 4х4, ранг которой равен 1."
   ]
  },
  {
   "cell_type": "code",
   "execution_count": 3,
   "metadata": {},
   "outputs": [
    {
     "data": {
      "text/latex": [
       "\\begin{eqnarray*}A=\\left|\\begin{array}{ccc}1&2&3\\\\4&0&6\\\\7&8&9\\end{array}\\right|;\\quad М=\\left|\\begin{array}{ccc}\n",
       "-48&-6&32\\\\-6&-12&-6\\\\12&-6&-8\\end{array}\\right|;\\quad A_*^T=\\left|\\begin{array}{ccc}-48&6&12\\\\6&-12&6\\\\32&6&-8\n",
       "\\end{array}\\right|;\\quad A^{-1}=\\frac{1}{60}*\\left|\\begin{array}{ccc}-48&6&12\\\\6&-12&6\\\\32&6&-8\\end{array}\\right|\\end{eqnarray*}\n"
      ],
      "text/plain": [
       "<IPython.core.display.Latex object>"
      ]
     },
     "metadata": {},
     "output_type": "display_data"
    }
   ],
   "source": [
    "%%latex\n",
    "\\begin{eqnarray*}A=\\left|\\begin{array}{ccc}1&2&3\\\\4&0&6\\\\7&8&9\\end{array}\\right|;\\quad М=\\left|\\begin{array}{ccc}\n",
    "-48&-6&32\\\\-6&-12&-6\\\\12&-6&-8\\end{array}\\right|;\\quad A_*^T=\\left|\\begin{array}{ccc}-48&6&12\\\\6&-12&6\\\\32&6&-8\n",
    "\\end{array}\\right|;\\quad A^{-1}=\\frac{1}{60}*\\left|\\begin{array}{ccc}-48&6&12\\\\6&-12&6\\\\32&6&-8\\end{array}\\right|\\end{eqnarray*}"
   ]
  },
  {
   "cell_type": "code",
   "execution_count": 4,
   "metadata": {},
   "outputs": [
    {
     "data": {
      "text/latex": [
       "\\begin{eqnarray*}B=\\left|\\begin{array}{cccc}1&2&3&4\\\\2&4&6&8\\\\-1&-2&-3&-4\\\\4.5&9&13.5&18\\end{array}\\right|; \\quad rang(B)=1\n",
       "\\end{eqnarray*}\n"
      ],
      "text/plain": [
       "<IPython.core.display.Latex object>"
      ]
     },
     "metadata": {},
     "output_type": "display_data"
    }
   ],
   "source": [
    "%%latex\n",
    "\\begin{eqnarray*}B=\\left|\\begin{array}{cccc}1&2&3&4\\\\2&4&6&8\\\\-1&-2&-3&-4\\\\4.5&9&13.5&18\\end{array}\\right|; \\quad rang(B)=1\n",
    "\\end{eqnarray*}"
   ]
  },
  {
   "cell_type": "code",
   "execution_count": 5,
   "metadata": {},
   "outputs": [
    {
     "data": {
      "text/plain": [
       "1"
      ]
     },
     "execution_count": 5,
     "metadata": {},
     "output_type": "execute_result"
    }
   ],
   "source": [
    "import numpy as np\n",
    "B = np.array([[1, 2, 3, 4], [2, 4, 6, 8], [-1, -2, -3, -4], [4.5, 9, 13,5, 18]])\n",
    "np.linalg.matrix_rank(B)"
   ]
  },
  {
   "cell_type": "markdown",
   "metadata": {},
   "source": [
    "5.4.\n",
    "Вычислите скалярное произведение двух векторов:  \n",
    "(1, 5)  и  (2, 8)"
   ]
  },
  {
   "cell_type": "code",
   "execution_count": 6,
   "metadata": {},
   "outputs": [
    {
     "data": {
      "text/latex": [
       "\\begin{eqnarray*}\n",
       "\\overrightarrow{a}=(1, 5); \\quad \\overrightarrow{b}=(2, 8); \\quad \\overrightarrow{a}*\\overrightarrow{b}=1*2+5*8=42\n",
       "\\end{eqnarray*}\n"
      ],
      "text/plain": [
       "<IPython.core.display.Latex object>"
      ]
     },
     "metadata": {},
     "output_type": "display_data"
    }
   ],
   "source": [
    "%%latex\n",
    "\\begin{eqnarray*}\n",
    "\\overrightarrow{a}=(1, 5); \\quad \\overrightarrow{b}=(2, 8); \\quad \\overrightarrow{a}*\\overrightarrow{b}=1*2+5*8=42\n",
    "\\end{eqnarray*}"
   ]
  },
  {
   "cell_type": "markdown",
   "metadata": {},
   "source": [
    "5.5\n",
    "Вычислите смешанное произведение трех векторов:\n",
    "(1, 5, 0), (2, 8, 7) и (7, 1.5, 3) "
   ]
  },
  {
   "cell_type": "code",
   "execution_count": 7,
   "metadata": {},
   "outputs": [
    {
     "data": {
      "text/latex": [
       "\\begin{eqnarray*}\n",
       "\\overrightarrow{a}=(1, 5, 0); \\quad \\overrightarrow{b}=(2, 8, 7); \\quad \\overrightarrow{c}=(7, 1.5, 3); \\quad\n",
       "\\overrightarrow{a}x\\overrightarrow{b}=\\left|\\begin{array}{ccc}i&j&k\\\\1&5&0\\\\2&8&7\\end{array}\\right| \\quad\n",
       "(axb)_i=5*7-8*0; \\quad (axb)_j=-(1*7-0*2); \\quad (axb)_k=1*8-5*2; \\quad \\overrightarrow{a}x\\overrightarrow{b}=(35, -7, -2);\n",
       "\\qquad \\overrightarrow{a}x\\overrightarrow{b}*\\overrightarrow{c}=35*7+(-7*1.5)+(-2*3)=228.5\n",
       "\\end{eqnarray*}\n"
      ],
      "text/plain": [
       "<IPython.core.display.Latex object>"
      ]
     },
     "metadata": {},
     "output_type": "display_data"
    }
   ],
   "source": [
    "%%latex\n",
    "\\begin{eqnarray*}\n",
    "\\overrightarrow{a}=(1, 5, 0); \\quad \\overrightarrow{b}=(2, 8, 7); \\quad \\overrightarrow{c}=(7, 1.5, 3); \\quad\n",
    "\\overrightarrow{a}x\\overrightarrow{b}=\\left|\\begin{array}{ccc}i&j&k\\\\1&5&0\\\\2&8&7\\end{array}\\right| \\quad\n",
    "(axb)_i=5*7-8*0; \\quad (axb)_j=-(1*7-0*2); \\quad (axb)_k=1*8-5*2; \\quad \\overrightarrow{a}x\\overrightarrow{b}=(35, -7, -2);\n",
    "\\qquad \\overrightarrow{a}x\\overrightarrow{b}*\\overrightarrow{c}=35*7+(-7*1.5)+(-2*3)=228.5\n",
    "\\end{eqnarray*}"
   ]
  },
  {
   "cell_type": "code",
   "execution_count": 8,
   "metadata": {},
   "outputs": [
    {
     "data": {
      "text/plain": [
       "228.5"
      ]
     },
     "execution_count": 8,
     "metadata": {},
     "output_type": "execute_result"
    }
   ],
   "source": [
    "import numpy as np\n",
    "a = np.array([1, 5, 0])\n",
    "b = np.array([2, 8, 7])\n",
    "c = np.array([7, 1.5, 3])\n",
    "np.inner(np.cross(a, b), c)"
   ]
  },
  {
   "cell_type": "markdown",
   "metadata": {},
   "source": [
    "## Практическое задание к видеоуроку “СЛАУ”"
   ]
  },
  {
   "cell_type": "markdown",
   "metadata": {},
   "source": [
    "1. Решите линейную систему: [[1, 2, 3], [4, 0, 6], [7, 8, 9]]*X=[12, 2, 1]"
   ]
  },
  {
   "cell_type": "code",
   "execution_count": 9,
   "metadata": {},
   "outputs": [
    {
     "data": {
      "text/plain": [
       "array([-9.2       ,  0.9       ,  6.46666667])"
      ]
     },
     "execution_count": 9,
     "metadata": {},
     "output_type": "execute_result"
    }
   ],
   "source": [
    "A = np.array([[1, 2, 3], [4, 0, 6], [7, 8, 9]])\n",
    "B = np.array([12, 2, 1])\n",
    "np.dot(np.linalg.inv(A), B)"
   ]
  },
  {
   "cell_type": "markdown",
   "metadata": {},
   "source": [
    "2. Найдите псевдорешение:\n",
    "x + 2y – z = 1\n",
    "3x – 4y = 7\n",
    "8x – 5y + 2z = 12\n",
    "2x – 5z = 7\n",
    "11x +4y – 7z = 15"
   ]
  },
  {
   "cell_type": "code",
   "execution_count": 10,
   "metadata": {},
   "outputs": [
    {
     "data": {
      "text/plain": [
       "(array([ 1.13919353, -0.90498444, -0.9009803 ]),\n",
       " array([0.71523211]),\n",
       " 3,\n",
       " array([15.2817306 ,  9.59852942,  3.65197794]))"
      ]
     },
     "execution_count": 10,
     "metadata": {},
     "output_type": "execute_result"
    }
   ],
   "source": [
    "A = np.array([[1, 2, -1], [3, -4, 0], [8, -5, 2], [2, 0, -5], [11, 4, -7]])\n",
    "B = np.array([1, 7, 12, 7, 15])\n",
    "np.linalg.lstsq(A, B, rcond=None)"
   ]
  },
  {
   "cell_type": "markdown",
   "metadata": {},
   "source": [
    "3. Сколько решений имеет линейная система:\n",
    "[[1, 2, 3], [4, 5, 6], [7, 8, 9]]*X=[12, 2, 1]\n",
    "Если ноль – то измените вектор правой части так, чтобы система стала совместной, и решите ее. "
   ]
  },
  {
   "cell_type": "code",
   "execution_count": 11,
   "metadata": {},
   "outputs": [
    {
     "data": {
      "text/plain": [
       "(2, 3)"
      ]
     },
     "execution_count": 11,
     "metadata": {},
     "output_type": "execute_result"
    }
   ],
   "source": [
    "A = np.array([[1, 2, 3], [4, 5, 6], [7, 8, 9]]) # матрица с линейной зависимостью строк\n",
    "B = np.array([[12, 2, 1]])\n",
    "C = np.concatenate((A, B.T), axis=1)\n",
    "np.linalg.matrix_rank(A), np.linalg.matrix_rank(C) # СЛАУ несовместна"
   ]
  },
  {
   "cell_type": "code",
   "execution_count": 12,
   "metadata": {},
   "outputs": [
    {
     "name": "stdout",
     "output_type": "stream",
     "text": [
      "rang(A, C1) = (2, 2)\n"
     ]
    },
    {
     "data": {
      "text/plain": [
       "array([0., 0., 4.])"
      ]
     },
     "execution_count": 12,
     "metadata": {},
     "output_type": "execute_result"
    }
   ],
   "source": [
    "B1 = np.array([[12, 24, 36]])\n",
    "C1 = np.concatenate((A, B1.T), axis=1)\n",
    "print('rang(A, C1) =', (np.linalg.matrix_rank(A), np.linalg.matrix_rank(C1)))\n",
    "np.linalg.solve(A, *B1)"
   ]
  },
  {
   "cell_type": "markdown",
   "metadata": {},
   "source": [
    "4. Вычислите LU-разложение матрицы:\n",
    "[[1, 2, 3], [2, 16, 21], [4, 28, 73]]\n",
    "После этого придумайте вектор правых частей и решите полученную линейную систему трех уравнений с данной матрицей."
   ]
  },
  {
   "cell_type": "code",
   "execution_count": 13,
   "metadata": {},
   "outputs": [
    {
     "name": "stdout",
     "output_type": "stream",
     "text": [
      "[14.02777778  1.06944444 -1.05555556]\n",
      "[14.02777778  1.06944444 -1.05555556]\n"
     ]
    }
   ],
   "source": [
    "import scipy.linalg\n",
    "\n",
    "A = np.array([[1, 2, 3], [2, 16, 21], [4, 28, 73]])\n",
    "PL, U = scipy.linalg.lu(A, permute_l=True)\n",
    "B = np.array([13, 23, 9])\n",
    "print(np.dot(np.linalg.inv(U), np.dot(np.linalg.inv(PL), B)))\n",
    "print(np.dot(np.linalg.inv(A), B))"
   ]
  },
  {
   "cell_type": "markdown",
   "metadata": {},
   "source": [
    "5. Найдите нормальное псевдорешение недоопределенной системы:\n",
    "x + 2y – z = 1\n",
    "8x – 5y + 2z = 12\n",
    "Для этого определите функцию Q(x,y,z), равную норме решения, и найдите ее минимум."
   ]
  },
  {
   "cell_type": "code",
   "execution_count": 14,
   "metadata": {},
   "outputs": [
    {
     "name": "stdout",
     "output_type": "stream",
     "text": [
      "(array([ 1.38191882, -0.18081181,  0.0202952 ]), array([], dtype=float64), 2, array([9.65316119, 2.41173777]))\n"
     ]
    },
    {
     "data": {
      "image/png": "[encoded data removed]",
      "text/plain": [
       "<Figure size 432x288 with 1 Axes>"
      ]
     },
     "metadata": {
      "needs_background": "light"
     },
     "output_type": "display_data"
    }
   ],
   "source": [
    "import matplotlib.pyplot as plt\n",
    "%matplotlib inline\n",
    "\n",
    "def Q(x, y, z):\n",
    "    return (x**2 + y**2 + z**2)\n",
    "\n",
    "A = np.array([[1, 2, -1], [8, -5, 2]])\n",
    "B = np.array([1, 12])\n",
    "print(np.linalg.lstsq(A, B, rcond=None))\n",
    "\n",
    "x = np.linspace(-2, 5, 701)\n",
    "y = 10*x - 14\n",
    "z = 21*x - 29\n",
    "plt.plot(x, Q(x, y, z))\n",
    "plt.grid()\n",
    "plt.axis([-2, 5, -500, 6000])\n",
    "plt.plot([1.38191882, 1.38191882], [0, 6000], color='black', linestyle='dashed');"
   ]
  },
  {
   "cell_type": "markdown",
   "metadata": {},
   "source": [
    "6. Найдите одно из псевдорешений вырожденной системы:\n",
    "[[1, 2, 3], [4, 5, 6], [7, 8, 9]]*X=[2, 5, 11]\n",
    "Попробуйте также отыскать и нормальное псевдорешение."
   ]
  },
  {
   "cell_type": "code",
   "execution_count": 15,
   "metadata": {},
   "outputs": [
    {
     "name": "stdout",
     "output_type": "stream",
     "text": [
      "rang(A, C) = (2, 3)\n",
      "X = [1.50000000e+00 9.45096256e-15 0.00000000e+00]\n",
      "(array([ 1.25,  0.5 , -0.25]), array([], dtype=float64), 2, array([1.68481034e+01, 1.06836951e+00, 3.33475287e-16]))\n"
     ]
    }
   ],
   "source": [
    "A = np.array([[1, 2, 3], [4, 5, 6], [7, 8, 9]])\n",
    "B = np.array([[2, 5, 11]])\n",
    "C = np.concatenate((A, B.T), axis=1)\n",
    "\n",
    "print(f'rang(A, C) = {np.linalg.matrix_rank(A), np.linalg.matrix_rank(C)}')\n",
    "\n",
    "Q, R = np.linalg.qr(A)\n",
    "R1 = R[:2, :2]\n",
    "B1 = np.dot(Q.T, *B)[:2]\n",
    "print(f'X = {np.append(np.linalg.solve(R1, B1), 0)}')\n",
    "print(np.linalg.lstsq(A, *B, rcond=None))"
   ]
  }
 ],
 "metadata": {
  "kernelspec": {
   "display_name": "Python 3",
   "language": "python",
   "name": "python3"
  },
  "language_info": {
   "codemirror_mode": {
    "name": "ipython",
    "version": 3
   },
   "file_extension": ".py",
   "mimetype": "text/x-python",
   "name": "python",
   "nbconvert_exporter": "python",
   "pygments_lexer": "ipython3",
   "version": "3.7.3"
  }
 },
 "nbformat": 4,
 "nbformat_minor": 2
}
